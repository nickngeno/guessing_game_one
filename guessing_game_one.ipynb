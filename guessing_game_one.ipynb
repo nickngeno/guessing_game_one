{
 "cells": [
  {
   "cell_type": "code",
   "execution_count": 8,
   "metadata": {},
   "outputs": [],
   "source": [
    "import random\n"
   ]
  },
  {
   "cell_type": "code",
   "execution_count": null,
   "metadata": {},
   "outputs": [],
   "source": [
    "\"\"\"\n",
    "Generate a random number between 1 and 9 (including 1 and 9). \n",
    "Ask the user to guess the number, then tell them whether \n",
    "they guessed too low, too high, or exactly right.\n",
    "\"\"\"\n",
    "\n",
    "rand_no=random.randint(1,9)\n",
    "count =0\n",
    "user_input=0\n",
    "\n",
    "while user_input != rand_no and user_input!='exit':\n",
    "    count +=1\n",
    "    user_input=int(input(\"Please guess a number\"))\n",
    "\n",
    "    if user_input < rand_no:\n",
    "        print(\"you guessed too low\")\n",
    "    elif user_input > rand_no:\n",
    "        print(\"you guesed way high\")\n",
    "    elif user_input==\"exit\": \n",
    "        break\n",
    "    else:\n",
    "        print(\"congratulations,thats the no.\")\n",
    "        print (\"You tried %s times.\" % str(count)) \n",
    "        if count < 5:\n",
    "            print(\"Thats a good guess,you did it after just %s times.\" %count )\n",
    "        else:\n",
    "            print(\"Not so good a guess.You did it after %s times.\" %count )\n",
    "        "
   ]
  }
 ],
 "metadata": {
  "kernelspec": {
   "display_name": "Python 3",
   "language": "python",
   "name": "python3"
  },
  "language_info": {
   "codemirror_mode": {
    "name": "ipython",
    "version": 3
   },
   "file_extension": ".py",
   "mimetype": "text/x-python",
   "name": "python",
   "nbconvert_exporter": "python",
   "pygments_lexer": "ipython3",
   "version": "3.7.5"
  }
 },
 "nbformat": 4,
 "nbformat_minor": 2
}
